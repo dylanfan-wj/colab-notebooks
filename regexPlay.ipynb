{
  "nbformat": 4,
  "nbformat_minor": 0,
  "metadata": {
    "colab": {
      "name": "regexPlay.ipynb",
      "provenance": [],
      "collapsed_sections": [
        "LsivHd-Eq3rW",
        "D0alIWWfzO0-",
        "Q8Iv96Z-rULy",
        "NL2BufVJkL-4"
      ],
      "authorship_tag": "ABX9TyO36CO/o85AUxqjxSDomrZt"
    },
    "kernelspec": {
      "name": "python3",
      "display_name": "Python 3"
    }
  },
  "cells": [
    {
      "cell_type": "markdown",
      "metadata": {
        "id": "LsivHd-Eq3rW"
      },
      "source": [
        "# **Regular Expressions Demystified**\n",
        "\n",
        "This notebook aims to demystify some of the patterns that are utilized in our interaction with Regular Expressions related syntax and methods from different libraries...\n",
        "<br><br>\n",
        "We begin by importing some modules..."
      ]
    },
    {
      "cell_type": "code",
      "metadata": {
        "id": "-3ZtdDFsqp9W"
      },
      "source": [
        "import re\n",
        "import certifi\n",
        "import json\n",
        "import pandas as pd\n",
        "\n",
        "import urllib3\n",
        "from urllib3 import request\n",
        "\n",
        "# Handle Certification Validation\n",
        "http = urllib3.PoolManager(\n",
        "    cert_reqs = 'CERT_REQUIRED',\n",
        "    ca_certs = certifi.where())\n",
        "\n",
        "# Get data from API\n",
        "url = 'https://data.nasa.gov/resource/y77d-th95.json'\n",
        "r = http.request('GET', url)\n",
        "assert r.status == 200\n",
        "\n",
        "data = json.loads(r.data.decode('utf-8'))"
      ],
      "execution_count": 1,
      "outputs": []
    },
    {
      "cell_type": "markdown",
      "metadata": {
        "id": "D0alIWWfzO0-"
      },
      "source": [
        "# **Character Classes**\n",
        "These patterns seeks to match characters based on the character type. (i.e. Alphanumeric, digits, whitespace, etc.)\n",
        "\n",
        "Some common patterns used are:\n",
        "\n",
        "\n",
        "*   **\\w** - Matches alphanumeric characters\n",
        "*   **\\d** - Matches digits, 0 to 9\n",
        "*   **\\s** - Matches whitespace characters, including \\t, \\n, \\r and space characters\n",
        "\n",
        "and their inversion with UPPERCASE:\n",
        "*   **\\W** - Matches non-alphanumeric characters\n",
        "*   **\\D** - Matches any non-digits\n",
        "*   **\\S** - Matches non-whitespace characters\n",
        "\n",
        "and finally, to find special characters like hypens, soft-brackets or curly bracers, we used the **\\** backspace character to escape it (i.e. '\\-', '\\{', '\\)', etc.)\n",
        "<br><br>\n",
        "Here are some examples:"
      ]
    },
    {
      "cell_type": "code",
      "metadata": {
        "id": "krlg6MEo3YSJ"
      },
      "source": [
        "# Using a tabular dataset by NASA on Earth Meteorite Landings\n",
        "meteorites = pd.json_normalize(data)\n",
        "\n",
        "# We can write a simple function to \n",
        "def find_meteorites(df, column, pattern):\n",
        "  return df[df[column].str.contains(pattern)]"
      ],
      "execution_count": 2,
      "outputs": []
    },
    {
      "cell_type": "code",
      "metadata": {
        "id": "hXzDLYhbzSHM",
        "outputId": "580ffd76-b486-474d-b5f2-b887ee2b2cba",
        "colab": {
          "base_uri": "https://localhost:8080/",
          "height": 204
        }
      },
      "source": [
        "# Finding Meteorites labeled with 'ac' in between...\n",
        "find_meteorites(meteorites, 'name', r'\\wac\\w').head()"
      ],
      "execution_count": 3,
      "outputs": [
        {
          "output_type": "execute_result",
          "data": {
            "text/html": [
              "<div>\n",
              "<style scoped>\n",
              "    .dataframe tbody tr th:only-of-type {\n",
              "        vertical-align: middle;\n",
              "    }\n",
              "\n",
              "    .dataframe tbody tr th {\n",
              "        vertical-align: top;\n",
              "    }\n",
              "\n",
              "    .dataframe thead th {\n",
              "        text-align: right;\n",
              "    }\n",
              "</style>\n",
              "<table border=\"1\" class=\"dataframe\">\n",
              "  <thead>\n",
              "    <tr style=\"text-align: right;\">\n",
              "      <th></th>\n",
              "      <th>name</th>\n",
              "      <th>id</th>\n",
              "      <th>nametype</th>\n",
              "      <th>recclass</th>\n",
              "      <th>mass</th>\n",
              "      <th>fall</th>\n",
              "      <th>year</th>\n",
              "      <th>reclat</th>\n",
              "      <th>reclong</th>\n",
              "      <th>geolocation.type</th>\n",
              "      <th>geolocation.coordinates</th>\n",
              "      <th>:@computed_region_cbhk_fwbd</th>\n",
              "      <th>:@computed_region_nnqa_25f4</th>\n",
              "    </tr>\n",
              "  </thead>\n",
              "  <tbody>\n",
              "    <tr>\n",
              "      <th>0</th>\n",
              "      <td>Aachen</td>\n",
              "      <td>1</td>\n",
              "      <td>Valid</td>\n",
              "      <td>L5</td>\n",
              "      <td>21</td>\n",
              "      <td>Fell</td>\n",
              "      <td>1880-01-01T00:00:00.000</td>\n",
              "      <td>50.775000</td>\n",
              "      <td>6.083330</td>\n",
              "      <td>Point</td>\n",
              "      <td>[6.08333, 50.775]</td>\n",
              "      <td>NaN</td>\n",
              "      <td>NaN</td>\n",
              "    </tr>\n",
              "    <tr>\n",
              "      <th>65</th>\n",
              "      <td>Bachmut</td>\n",
              "      <td>4917</td>\n",
              "      <td>Valid</td>\n",
              "      <td>L6</td>\n",
              "      <td>18000</td>\n",
              "      <td>Fell</td>\n",
              "      <td>1814-01-01T00:00:00.000</td>\n",
              "      <td>48.600000</td>\n",
              "      <td>38.000000</td>\n",
              "      <td>Point</td>\n",
              "      <td>[38, 48.6]</td>\n",
              "      <td>NaN</td>\n",
              "      <td>NaN</td>\n",
              "    </tr>\n",
              "    <tr>\n",
              "      <th>85</th>\n",
              "      <td>Bath Furnace</td>\n",
              "      <td>4975</td>\n",
              "      <td>Valid</td>\n",
              "      <td>L6</td>\n",
              "      <td>86000</td>\n",
              "      <td>Fell</td>\n",
              "      <td>1902-01-01T00:00:00.000</td>\n",
              "      <td>38.250000</td>\n",
              "      <td>-83.750000</td>\n",
              "      <td>Point</td>\n",
              "      <td>[-83.75, 38.25]</td>\n",
              "      <td>36</td>\n",
              "      <td>1921</td>\n",
              "    </tr>\n",
              "    <tr>\n",
              "      <th>122</th>\n",
              "      <td>Black Moshannan Park</td>\n",
              "      <td>5065</td>\n",
              "      <td>Valid</td>\n",
              "      <td>L5</td>\n",
              "      <td>705</td>\n",
              "      <td>Fell</td>\n",
              "      <td>1941-01-01T00:00:00.000</td>\n",
              "      <td>40.916670</td>\n",
              "      <td>-78.083330</td>\n",
              "      <td>Point</td>\n",
              "      <td>[-78.08333, 40.91667]</td>\n",
              "      <td>48</td>\n",
              "      <td>2495</td>\n",
              "    </tr>\n",
              "    <tr>\n",
              "      <th>123</th>\n",
              "      <td>Blackwell</td>\n",
              "      <td>5068</td>\n",
              "      <td>Valid</td>\n",
              "      <td>L5</td>\n",
              "      <td>2381</td>\n",
              "      <td>Fell</td>\n",
              "      <td>1906-01-01T00:00:00.000</td>\n",
              "      <td>36.833330</td>\n",
              "      <td>-97.333330</td>\n",
              "      <td>Point</td>\n",
              "      <td>[-97.33333, 36.83333]</td>\n",
              "      <td>20</td>\n",
              "      <td>2164</td>\n",
              "    </tr>\n",
              "  </tbody>\n",
              "</table>\n",
              "</div>"
            ],
            "text/plain": [
              "                     name  ... :@computed_region_nnqa_25f4\n",
              "0                  Aachen  ...                         NaN\n",
              "65                Bachmut  ...                         NaN\n",
              "85           Bath Furnace  ...                        1921\n",
              "122  Black Moshannan Park  ...                        2495\n",
              "123             Blackwell  ...                        2164\n",
              "\n",
              "[5 rows x 13 columns]"
            ]
          },
          "metadata": {
            "tags": []
          },
          "execution_count": 3
        }
      ]
    },
    {
      "cell_type": "code",
      "metadata": {
        "id": "y1LeL5VDHNxd",
        "outputId": "993eb560-eab3-4fad-f80e-ab04568a5e16",
        "colab": {
          "base_uri": "https://localhost:8080/",
          "height": 204
        }
      },
      "source": [
        "# Finding Meteorites labeled with digits in its name...\n",
        "find_meteorites(meteorites, 'name', r'\\d').head()"
      ],
      "execution_count": 4,
      "outputs": [
        {
          "output_type": "execute_result",
          "data": {
            "text/html": [
              "<div>\n",
              "<style scoped>\n",
              "    .dataframe tbody tr th:only-of-type {\n",
              "        vertical-align: middle;\n",
              "    }\n",
              "\n",
              "    .dataframe tbody tr th {\n",
              "        vertical-align: top;\n",
              "    }\n",
              "\n",
              "    .dataframe thead th {\n",
              "        text-align: right;\n",
              "    }\n",
              "</style>\n",
              "<table border=\"1\" class=\"dataframe\">\n",
              "  <thead>\n",
              "    <tr style=\"text-align: right;\">\n",
              "      <th></th>\n",
              "      <th>name</th>\n",
              "      <th>id</th>\n",
              "      <th>nametype</th>\n",
              "      <th>recclass</th>\n",
              "      <th>mass</th>\n",
              "      <th>fall</th>\n",
              "      <th>year</th>\n",
              "      <th>reclat</th>\n",
              "      <th>reclong</th>\n",
              "      <th>geolocation.type</th>\n",
              "      <th>geolocation.coordinates</th>\n",
              "      <th>:@computed_region_cbhk_fwbd</th>\n",
              "      <th>:@computed_region_nnqa_25f4</th>\n",
              "    </tr>\n",
              "  </thead>\n",
              "  <tbody>\n",
              "    <tr>\n",
              "      <th>37</th>\n",
              "      <td>Northwest Africa 5815</td>\n",
              "      <td>50693</td>\n",
              "      <td>Valid</td>\n",
              "      <td>L5</td>\n",
              "      <td>256.8</td>\n",
              "      <td>Found</td>\n",
              "      <td>NaN</td>\n",
              "      <td>0.000000</td>\n",
              "      <td>0.000000</td>\n",
              "      <td>Point</td>\n",
              "      <td>[0, 0]</td>\n",
              "      <td>NaN</td>\n",
              "      <td>NaN</td>\n",
              "    </tr>\n",
              "    <tr>\n",
              "      <th>137</th>\n",
              "      <td>Boumdeid (2003)</td>\n",
              "      <td>57168</td>\n",
              "      <td>Valid</td>\n",
              "      <td>L6</td>\n",
              "      <td>190</td>\n",
              "      <td>Fell</td>\n",
              "      <td>2003-01-01T00:00:00.000</td>\n",
              "      <td>17.710670</td>\n",
              "      <td>-11.371500</td>\n",
              "      <td>Point</td>\n",
              "      <td>[-11.3715, 17.71067]</td>\n",
              "      <td>NaN</td>\n",
              "      <td>NaN</td>\n",
              "    </tr>\n",
              "    <tr>\n",
              "      <th>138</th>\n",
              "      <td>Boumdeid (2011)</td>\n",
              "      <td>57167</td>\n",
              "      <td>Valid</td>\n",
              "      <td>L6</td>\n",
              "      <td>3599</td>\n",
              "      <td>Fell</td>\n",
              "      <td>2011-01-01T00:00:00.000</td>\n",
              "      <td>17.174930</td>\n",
              "      <td>-11.341330</td>\n",
              "      <td>Point</td>\n",
              "      <td>[-11.34133, 17.17493]</td>\n",
              "      <td>NaN</td>\n",
              "      <td>NaN</td>\n",
              "    </tr>\n",
              "    <tr>\n",
              "      <th>480</th>\n",
              "      <td>Kijima (1906)</td>\n",
              "      <td>12305</td>\n",
              "      <td>Valid</td>\n",
              "      <td>Stone-uncl</td>\n",
              "      <td>331</td>\n",
              "      <td>Fell</td>\n",
              "      <td>1906-01-01T00:00:00.000</td>\n",
              "      <td>36.850000</td>\n",
              "      <td>138.383330</td>\n",
              "      <td>Point</td>\n",
              "      <td>[138.38333, 36.85]</td>\n",
              "      <td>NaN</td>\n",
              "      <td>NaN</td>\n",
              "    </tr>\n",
              "    <tr>\n",
              "      <th>520</th>\n",
              "      <td>Cumulus Hills 04075</td>\n",
              "      <td>32531</td>\n",
              "      <td>Valid</td>\n",
              "      <td>Pallasite</td>\n",
              "      <td>9.6</td>\n",
              "      <td>Found</td>\n",
              "      <td>2003-01-01T00:00:00.000</td>\n",
              "      <td>NaN</td>\n",
              "      <td>NaN</td>\n",
              "      <td>NaN</td>\n",
              "      <td>NaN</td>\n",
              "      <td>NaN</td>\n",
              "      <td>NaN</td>\n",
              "    </tr>\n",
              "  </tbody>\n",
              "</table>\n",
              "</div>"
            ],
            "text/plain": [
              "                      name  ... :@computed_region_nnqa_25f4\n",
              "37   Northwest Africa 5815  ...                         NaN\n",
              "137        Boumdeid (2003)  ...                         NaN\n",
              "138        Boumdeid (2011)  ...                         NaN\n",
              "480          Kijima (1906)  ...                         NaN\n",
              "520    Cumulus Hills 04075  ...                         NaN\n",
              "\n",
              "[5 rows x 13 columns]"
            ]
          },
          "metadata": {
            "tags": []
          },
          "execution_count": 4
        }
      ]
    },
    {
      "cell_type": "code",
      "metadata": {
        "id": "hk3FinvjICeu",
        "outputId": "7cea519e-0cd9-40c9-8c6c-c4cbf5f739e9",
        "colab": {
          "base_uri": "https://localhost:8080/",
          "height": 204
        }
      },
      "source": [
        "# Finding Meteorites with name that consist of 2 words or more...\n",
        "find_meteorites(meteorites, 'name', r'\\s').head()"
      ],
      "execution_count": 5,
      "outputs": [
        {
          "output_type": "execute_result",
          "data": {
            "text/html": [
              "<div>\n",
              "<style scoped>\n",
              "    .dataframe tbody tr th:only-of-type {\n",
              "        vertical-align: middle;\n",
              "    }\n",
              "\n",
              "    .dataframe tbody tr th {\n",
              "        vertical-align: top;\n",
              "    }\n",
              "\n",
              "    .dataframe thead th {\n",
              "        text-align: right;\n",
              "    }\n",
              "</style>\n",
              "<table border=\"1\" class=\"dataframe\">\n",
              "  <thead>\n",
              "    <tr style=\"text-align: right;\">\n",
              "      <th></th>\n",
              "      <th>name</th>\n",
              "      <th>id</th>\n",
              "      <th>nametype</th>\n",
              "      <th>recclass</th>\n",
              "      <th>mass</th>\n",
              "      <th>fall</th>\n",
              "      <th>year</th>\n",
              "      <th>reclat</th>\n",
              "      <th>reclong</th>\n",
              "      <th>geolocation.type</th>\n",
              "      <th>geolocation.coordinates</th>\n",
              "      <th>:@computed_region_cbhk_fwbd</th>\n",
              "      <th>:@computed_region_nnqa_25f4</th>\n",
              "    </tr>\n",
              "  </thead>\n",
              "  <tbody>\n",
              "    <tr>\n",
              "      <th>5</th>\n",
              "      <td>Adhi Kot</td>\n",
              "      <td>379</td>\n",
              "      <td>Valid</td>\n",
              "      <td>EH4</td>\n",
              "      <td>4239</td>\n",
              "      <td>Fell</td>\n",
              "      <td>1919-01-01T00:00:00.000</td>\n",
              "      <td>32.100000</td>\n",
              "      <td>71.800000</td>\n",
              "      <td>Point</td>\n",
              "      <td>[71.8, 32.1]</td>\n",
              "      <td>NaN</td>\n",
              "      <td>NaN</td>\n",
              "    </tr>\n",
              "    <tr>\n",
              "      <th>6</th>\n",
              "      <td>Adzhi-Bogdo (stone)</td>\n",
              "      <td>390</td>\n",
              "      <td>Valid</td>\n",
              "      <td>LL3-6</td>\n",
              "      <td>910</td>\n",
              "      <td>Fell</td>\n",
              "      <td>1949-01-01T00:00:00.000</td>\n",
              "      <td>44.833330</td>\n",
              "      <td>95.166670</td>\n",
              "      <td>Point</td>\n",
              "      <td>[95.16667, 44.83333]</td>\n",
              "      <td>NaN</td>\n",
              "      <td>NaN</td>\n",
              "    </tr>\n",
              "    <tr>\n",
              "      <th>9</th>\n",
              "      <td>Aguila Blanca</td>\n",
              "      <td>417</td>\n",
              "      <td>Valid</td>\n",
              "      <td>L</td>\n",
              "      <td>1440</td>\n",
              "      <td>Fell</td>\n",
              "      <td>1920-01-01T00:00:00.000</td>\n",
              "      <td>-30.866670</td>\n",
              "      <td>-64.550000</td>\n",
              "      <td>Point</td>\n",
              "      <td>[-64.55, -30.86667]</td>\n",
              "      <td>NaN</td>\n",
              "      <td>NaN</td>\n",
              "    </tr>\n",
              "    <tr>\n",
              "      <th>10</th>\n",
              "      <td>Aioun el Atrouss</td>\n",
              "      <td>423</td>\n",
              "      <td>Valid</td>\n",
              "      <td>Diogenite-pm</td>\n",
              "      <td>1000</td>\n",
              "      <td>Fell</td>\n",
              "      <td>1974-01-01T00:00:00.000</td>\n",
              "      <td>16.398060</td>\n",
              "      <td>-9.570280</td>\n",
              "      <td>Point</td>\n",
              "      <td>[-9.57028, 16.39806]</td>\n",
              "      <td>NaN</td>\n",
              "      <td>NaN</td>\n",
              "    </tr>\n",
              "    <tr>\n",
              "      <th>17</th>\n",
              "      <td>Al Rais</td>\n",
              "      <td>446</td>\n",
              "      <td>Valid</td>\n",
              "      <td>CR2-an</td>\n",
              "      <td>160</td>\n",
              "      <td>Fell</td>\n",
              "      <td>1957-01-01T00:00:00.000</td>\n",
              "      <td>24.416670</td>\n",
              "      <td>39.516670</td>\n",
              "      <td>Point</td>\n",
              "      <td>[39.51667, 24.41667]</td>\n",
              "      <td>NaN</td>\n",
              "      <td>NaN</td>\n",
              "    </tr>\n",
              "  </tbody>\n",
              "</table>\n",
              "</div>"
            ],
            "text/plain": [
              "                   name  ... :@computed_region_nnqa_25f4\n",
              "5              Adhi Kot  ...                         NaN\n",
              "6   Adzhi-Bogdo (stone)  ...                         NaN\n",
              "9         Aguila Blanca  ...                         NaN\n",
              "10     Aioun el Atrouss  ...                         NaN\n",
              "17              Al Rais  ...                         NaN\n",
              "\n",
              "[5 rows x 13 columns]"
            ]
          },
          "metadata": {
            "tags": []
          },
          "execution_count": 5
        }
      ]
    },
    {
      "cell_type": "code",
      "metadata": {
        "id": "3-Q5zFCqI7-V",
        "outputId": "bdce7a55-6d05-46fe-d9d7-c083d90b570d",
        "colab": {
          "base_uri": "https://localhost:8080/",
          "height": 142
        }
      },
      "source": [
        "# Finding Meteorites with a single letter enclosed in soft brackets in its name...\n",
        "find_meteorites(meteorites, 'name', r'\\(\\w\\)').head()"
      ],
      "execution_count": 6,
      "outputs": [
        {
          "output_type": "execute_result",
          "data": {
            "text/html": [
              "<div>\n",
              "<style scoped>\n",
              "    .dataframe tbody tr th:only-of-type {\n",
              "        vertical-align: middle;\n",
              "    }\n",
              "\n",
              "    .dataframe tbody tr th {\n",
              "        vertical-align: top;\n",
              "    }\n",
              "\n",
              "    .dataframe thead th {\n",
              "        text-align: right;\n",
              "    }\n",
              "</style>\n",
              "<table border=\"1\" class=\"dataframe\">\n",
              "  <thead>\n",
              "    <tr style=\"text-align: right;\">\n",
              "      <th></th>\n",
              "      <th>name</th>\n",
              "      <th>id</th>\n",
              "      <th>nametype</th>\n",
              "      <th>recclass</th>\n",
              "      <th>mass</th>\n",
              "      <th>fall</th>\n",
              "      <th>year</th>\n",
              "      <th>reclat</th>\n",
              "      <th>reclong</th>\n",
              "      <th>geolocation.type</th>\n",
              "      <th>geolocation.coordinates</th>\n",
              "      <th>:@computed_region_cbhk_fwbd</th>\n",
              "      <th>:@computed_region_nnqa_25f4</th>\n",
              "    </tr>\n",
              "  </thead>\n",
              "  <tbody>\n",
              "    <tr>\n",
              "      <th>94</th>\n",
              "      <td>Benares (a)</td>\n",
              "      <td>5011</td>\n",
              "      <td>Valid</td>\n",
              "      <td>LL4</td>\n",
              "      <td>3700</td>\n",
              "      <td>Fell</td>\n",
              "      <td>1798-01-01T00:00:00.000</td>\n",
              "      <td>25.366670</td>\n",
              "      <td>82.916670</td>\n",
              "      <td>Point</td>\n",
              "      <td>[82.91667, 25.36667]</td>\n",
              "      <td>NaN</td>\n",
              "      <td>NaN</td>\n",
              "    </tr>\n",
              "    <tr>\n",
              "      <th>316</th>\n",
              "      <td>Galim (a)</td>\n",
              "      <td>10848</td>\n",
              "      <td>Valid</td>\n",
              "      <td>LL6</td>\n",
              "      <td>36.1</td>\n",
              "      <td>Fell</td>\n",
              "      <td>1952-01-01T00:00:00.000</td>\n",
              "      <td>7.050000</td>\n",
              "      <td>12.433330</td>\n",
              "      <td>Point</td>\n",
              "      <td>[12.43333, 7.05]</td>\n",
              "      <td>NaN</td>\n",
              "      <td>NaN</td>\n",
              "    </tr>\n",
              "    <tr>\n",
              "      <th>317</th>\n",
              "      <td>Galim (b)</td>\n",
              "      <td>10849</td>\n",
              "      <td>Valid</td>\n",
              "      <td>EH3/4-an</td>\n",
              "      <td>28</td>\n",
              "      <td>Fell</td>\n",
              "      <td>1952-01-01T00:00:00.000</td>\n",
              "      <td>7.050000</td>\n",
              "      <td>12.433330</td>\n",
              "      <td>Point</td>\n",
              "      <td>[12.43333, 7.05]</td>\n",
              "      <td>NaN</td>\n",
              "      <td>NaN</td>\n",
              "    </tr>\n",
              "  </tbody>\n",
              "</table>\n",
              "</div>"
            ],
            "text/plain": [
              "            name     id  ... :@computed_region_cbhk_fwbd :@computed_region_nnqa_25f4\n",
              "94   Benares (a)   5011  ...                         NaN                         NaN\n",
              "316    Galim (a)  10848  ...                         NaN                         NaN\n",
              "317    Galim (b)  10849  ...                         NaN                         NaN\n",
              "\n",
              "[3 rows x 13 columns]"
            ]
          },
          "metadata": {
            "tags": []
          },
          "execution_count": 6
        }
      ]
    },
    {
      "cell_type": "markdown",
      "metadata": {
        "id": "Q8Iv96Z-rULy"
      },
      "source": [
        "# **Special Characters**\n",
        "This category of patterns utilize special characters  to match expressions positionally or 'nth' times (aka Greediness).\n",
        "\n",
        "These patterns includes:\n",
        "\n",
        "\n",
        "*   **^** - Matches the start of a string\n",
        "*   **$** - Matches end of a string\n",
        "*   **+** - Matches 1 or more times\n",
        "*   **\\*** - Matches 0 or more times\n",
        "*   **?** - Matches 0 or 1 times\n",
        "\n",
        "and the following patterns dictates the number of times an expression is to be matched:\n",
        "*   **\\{m\\}** - Matches m times, and not less\n",
        "*   **\\{m, n}** - Matches m to n times, and not less\n",
        "*   **\\{m, n}?** - Matches m times and ignores n\n",
        "\n",
        "Lastly, we can try to apply two patterns to be applied for matching in an either/or scenario:\n",
        "* **A\\|B** - Matches expression A or B. If A is matched first, B is bypassed. \n",
        "<br><br>\n",
        "\n",
        "Walking through some examples:"
      ]
    },
    {
      "cell_type": "code",
      "metadata": {
        "id": "_5zzLL4Xz0jQ"
      },
      "source": [
        "import os\n",
        "import re\n",
        "import certifi\n",
        "import json\n",
        "\n",
        "import urllib3\n",
        "from urllib3 import request\n",
        "\n",
        "# Handle Certification Validation\n",
        "http = urllib3.PoolManager(\n",
        "    cert_reqs = 'CERT_REQUIRED',\n",
        "    ca_certs = certifi.where())\n",
        "\n",
        "# Get data from API\n",
        "url = 'https://raw.githubusercontent.com/dylanfan-wj/colab-notebooks/main/iamthewalrus.json'\n",
        "r = http.request('GET', url)\n",
        "assert r.status == 200\n",
        "\n",
        "song = json.loads(r.data.decode('utf-8'))"
      ],
      "execution_count": 7,
      "outputs": []
    },
    {
      "cell_type": "code",
      "metadata": {
        "id": "ukDXPhbmnbbd",
        "outputId": "5b13dec3-d808-4822-fac1-80ce17592352",
        "colab": {
          "base_uri": "https://localhost:8080/",
          "height": 103
        }
      },
      "source": [
        "# Here we utilize the 're.sub' method to substitute all newline characters '\\n' with ' '...\n",
        "lyrics = re.sub('\\n', ' ', song['Lyrics'])\n",
        "lyrics"
      ],
      "execution_count": 8,
      "outputs": [
        {
          "output_type": "execute_result",
          "data": {
            "application/vnd.google.colaboratory.intrinsic+json": {
              "type": "string"
            },
            "text/plain": [
              "\"I am he as you are he as you are me And we are all together See how they run like pigs from a gun See how they fly I'm crying Sitting on a corn flake Waiting for the van to come Corporation T-shirt, stupid bloody Tuesday Man you've been a naughty boy You let your face grow long I am the egg man They are the egg men I am the walrus Goo goo g'joob Mister City policeman sitting Pretty little policemen in a row See how they fly like Lucy in the sky, see how they run I'm crying, I'm crying I'm crying, I'm crying Yellow matter custard Dripping from a dead dog's eye Crabalocker fishwife, p*********** priestess Boy, you've been a naughty girl, you let your knickers down I am the egg man They are the egg men I am the walrus Goo goo g'joob Sitting in an English garden Waiting for the sun If the sun don't come you get a tan From standing in the English rain I am the egg man (now good sir) They are the egg men (a poor man, made tame to fortune's blows) I am the walrus Goo goo g'joob, goo goo goo g'joob (good pity) Expert, texpert choking smokers Don't you think the joker laughs at you (ho ho ho, hee hee hee, hah hah hah) See how they smile like pigs in a sty, see how they snide I'm crying Semolina Pilchard Climbing up the Eiffel tower Elementary penguin singing Hare Krishna Man, you should have seen them kicking Edgar Allen Poe I am the egg man They are the egg men I am the walrus Goo goo g'joob, goo goo goo g'joob Goo goo g'joob, goo goo goo g'joob, goo Joob, joob, jooba Jooba, jooba, jooba Joob, jooba Joob, jooba Umpa, umpa, stick it up your jumper (jooba, jooba) Umpa, umpa, stick it up your jumper Everybody's got one (umpa, umpa) Everybody's got one (stick it up your jumper) Everybody's got one (umpa, umpa) Everybody's got one (stick it up your jumper) Everybody's got one (umpa, umpa) Everybody's got one (stick it up your jumper) Everybody's got one (umpa, umpa) Everybody's got one (stick it up your jumper) Everybody's got one (umpa, umpa) Everybody's got one (stick it up your jumper) Everybody's got one (umpa, umpa) Slave Thou hast slain me Villain, take my purse If I ever Bury my body The letters which though find'st about me To Edmund Earl of Gloucester Seek him out upon the British Party O untimely death I know thee well A serviceable villain, as duteous to the vices of thy mistress As badness would desire What, is is he dead? Sit you down, Father, rest you\""
            ]
          },
          "metadata": {
            "tags": []
          },
          "execution_count": 8
        }
      ]
    },
    {
      "cell_type": "code",
      "metadata": {
        "id": "RPKxLQPuPb_L",
        "outputId": "9b54cbb5-e6ec-404e-e76e-9937320e157d",
        "colab": {
          "base_uri": "https://localhost:8080/"
        }
      },
      "source": [
        "# To recap what we have undergone in 'Character Classes'...\n",
        "# Decrpyt: 'H\\w+\\s\\w+' - Words (depict by \\w+) that are seperated by a single \n",
        "#                        whitespace character, '\\s' that begins with the letter\n",
        "#                        'H'.\n",
        "re.findall(r'H\\w+\\s\\w+', lyrics)"
      ],
      "execution_count": 9,
      "outputs": [
        {
          "output_type": "execute_result",
          "data": {
            "text/plain": [
              "['Hare Krishna']"
            ]
          },
          "metadata": {
            "tags": []
          },
          "execution_count": 9
        }
      ]
    },
    {
      "cell_type": "code",
      "metadata": {
        "id": "MoUtAHDIElZd",
        "outputId": "f1fe19be-18d4-4e18-d857-acd62003cce6",
        "colab": {
          "base_uri": "https://localhost:8080/"
        }
      },
      "source": [
        "# Finding all words that have 2 or more consecuetive 'o'... and multiple characters therefter\n",
        "oo_words = re.findall(r'\\w+o{2,}\\w*', lyrics)\n",
        "print(\"Total words with 'oo': \" + str(len(oo_words)))\n",
        "print(\"Unique list of 'oo' words:\")\n",
        "set(oo_words)"
      ],
      "execution_count": 10,
      "outputs": [
        {
          "output_type": "stream",
          "text": [
            "Total words with 'oo': 44\n",
            "Unique list of 'oo' words:\n"
          ],
          "name": "stdout"
        },
        {
          "output_type": "execute_result",
          "data": {
            "text/plain": [
              "{'Goo', 'Joob', 'Jooba', 'bloody', 'goo', 'good', 'joob', 'jooba', 'poor'}"
            ]
          },
          "metadata": {
            "tags": []
          },
          "execution_count": 10
        }
      ]
    },
    {
      "cell_type": "code",
      "metadata": {
        "id": "3QZyWJW2GPr3",
        "outputId": "6f29d2aa-aff2-4dc0-9101-4aae81aea6c6",
        "colab": {
          "base_uri": "https://localhost:8080/"
        }
      },
      "source": [
        "# Finding all words that have 2 or more consecuetive 'o'... and a character thereafter 0 or 1 times\n",
        "oo_words = re.findall(r'\\w+o{2,}\\w?', lyrics)\n",
        "print(\"Total words with 'oo': \" + str(len(oo_words)))\n",
        "print(\"Unique list of 'oo' words:\")\n",
        "set(oo_words)"
      ],
      "execution_count": 11,
      "outputs": [
        {
          "output_type": "stream",
          "text": [
            "Total words with 'oo': 44\n",
            "Unique list of 'oo' words:\n"
          ],
          "name": "stdout"
        },
        {
          "output_type": "execute_result",
          "data": {
            "text/plain": [
              "{'Goo', 'Joob', 'blood', 'goo', 'good', 'joob', 'poor'}"
            ]
          },
          "metadata": {
            "tags": []
          },
          "execution_count": 11
        }
      ]
    },
    {
      "cell_type": "markdown",
      "metadata": {
        "id": "RgQG6YIjrH4T"
      },
      "source": [
        "---\n",
        "But what if we want to match same pattern of word that appears consecutively? What about words that does not have consecutive 'oo' in it? We can use the concepts established in 'Sets' and 'Groups'\n"
      ]
    },
    {
      "cell_type": "markdown",
      "metadata": {
        "id": "NL2BufVJkL-4"
      },
      "source": [
        "# **Sets** \n",
        "\n",
        "To match a single character, we use the '['and']' to contain the set of characters that we wish to match.\n",
        "\n",
        "Some frequently used patterns are:\n",
        "\n",
        "\n",
        "*   **[a-zA-Z]** - Matches any single character from a to z and A to Z\n",
        "*   **[a-z0-9]** - Matches any single character from a to z and 0 to 9\n",
        "*   **[a-zA-Z0-9]** - Essentially the same as **\\w**\n",
        "*   **[^ab5]** - With **^** in **[** **]**, it excludes any characters placed within from matching (Negation)\n",
        "<br>\n",
        "<br>\n",
        "\n",
        "# **Groups**\n",
        "\n",
        "The most difficult to grasp amongst the categories of patterns. Characters placed inside the **(** and **)** groups them for matches. The parenthesis have different behaviors based on how the pattern is written.\n",
        "\n",
        "Some commonly used patterns are:\n",
        "\n",
        "*    **(ab)** - Matches only 'ab'. Similar to **[ab]+**\n",
        "*    **(?aiLmsux)** - The characters a, i, L, m, s, u, x are character flags:\n",
        "    * a - Matches ASCII only\n",
        "    * i - Ignore case\n",
        "    * L - Locale dependent\n",
        "    * m - Multi-line\n",
        "    * s - Matches all\n",
        "    * u - Matches unicode\n",
        "    * x - Verbose\n",
        "*    **(?:A)** - Matches expression represented by A\n",
        "*    **A(?=B)** - Positive Lookahead. Matches A only if followed by B.\n",
        "*    **A(?!B)** - Negative lookahead. Matches A only if not followed by B\n",
        "*    **(?<=B)A** - Positive lookbehind. Matches A only if B is immediately to its left.\n",
        "*    **(?<!B)A** - Negative lookbehind. Matches A only if B is not immediately to its left.\n",
        "*    **(?P=name)** - Matches expression matched by earlier group named \"name\"\n",
        "*    **(...)\\1** - Number 1 corresponds to the first group to be matched. We can use from 1 to 99 os such groups and their corresponding numbers to match more instances of the same expression,instead of re-writing the whole expression again.\n",
        "\n"
      ]
    },
    {
      "cell_type": "code",
      "metadata": {
        "id": "kg7KYe7kKyDz",
        "outputId": "2520e738-adf9-4567-c155-05261ff6def7",
        "colab": {
          "base_uri": "https://localhost:8080/"
        }
      },
      "source": [
        "# Findall lines that have words with 2 or more 'o's appearing consecutively...\n",
        "consecutive_oo_words = re.findall(r'(?:\\s\\w+o{2,}){2,3}', lyrics)\n",
        "print(\"No. of Occurences: \" + str(len(consecutive_oo_words)))\n",
        "consecutive_oo_words\n",
        "\n",
        "# Decrypting: (?:\\s\\w+o{2,}){2,3}\n",
        "# Where: (?:\\s\\w+o{2,}) - Capturing group to match words with a whitespace in front,\n",
        "#                     and a series of characters that ends with 'o' appearing\n",
        "#                     2 or more times.\n",
        "#        {2,3} - Match and return results where the capturing group appears\n",
        "#                at least 2 times but not more than 3.                     "
      ],
      "execution_count": 12,
      "outputs": [
        {
          "output_type": "stream",
          "text": [
            "No. of Occurences: 9\n"
          ],
          "name": "stdout"
        },
        {
          "output_type": "execute_result",
          "data": {
            "text/plain": [
              "[' Goo goo',\n",
              " ' Goo goo',\n",
              " ' Goo goo',\n",
              " ' goo goo goo',\n",
              " ' Goo goo',\n",
              " ' goo goo goo',\n",
              " ' Goo goo',\n",
              " ' goo goo goo',\n",
              " ' goo Joo']"
            ]
          },
          "metadata": {
            "tags": []
          },
          "execution_count": 12
        }
      ]
    },
    {
      "cell_type": "code",
      "metadata": {
        "id": "BDM-EBgqLji6",
        "outputId": "e75f8009-ab99-40f6-9ef2-fc2f36cb09a3",
        "colab": {
          "base_uri": "https://localhost:8080/"
        }
      },
      "source": [
        "# Finding list of words that does not have 2 or more consecutive 'o'... \n",
        "non_consecutive_oo = list(set(re.findall(r'[^o\\(\\)\\s]+(?=o(?!o))\\w+', lyrics)))\n",
        "print(\"No. of words with non-consecutive oo: \" + str(len(non_consecutive_oo)))\n",
        "print(\"\\n1st 5 words in the list: \")\n",
        "non_consecutive_oo[:5]\n",
        "\n",
        "# Decrypting: [^o\\(\\)\\s]+ (?=o(?!o)) \\w+\n",
        "#     Where: [^o\\(\\)\\s]+ - Negate characters matching 'o', '(', ')' and whitespace\n",
        "#            (?=o(?!o)) - Match characters that have 1 or more 'o' in it but \n",
        "#                         not consecutively\n",
        "#            \\w+ - All characters therZZeafter..."
      ],
      "execution_count": 13,
      "outputs": [
        {
          "output_type": "stream",
          "text": [
            "No. of words with non-consecutive oo: 48\n",
            "\n",
            "1st 5 words in the list: \n"
          ],
          "name": "stdout"
        },
        {
          "output_type": "execute_result",
          "data": {
            "text/plain": [
              "['for', 'Corporation', 'From', 'got', 'together']"
            ]
          },
          "metadata": {
            "tags": []
          },
          "execution_count": 13
        }
      ]
    },
    {
      "cell_type": "code",
      "metadata": {
        "id": "jKKPw8QAPLhz",
        "outputId": "05e70319-f4b5-4de3-dab9-8a51ce04940d",
        "colab": {
          "base_uri": "https://localhost:8080/"
        }
      },
      "source": [
        "# Finding words that begins with 'co', ignoring case...\n",
        "re.findall(r'(?i)co\\w+', lyrics)"
      ],
      "execution_count": 14,
      "outputs": [
        {
          "output_type": "execute_result",
          "data": {
            "text/plain": [
              "['corn', 'come', 'Corporation', 'come']"
            ]
          },
          "metadata": {
            "tags": []
          },
          "execution_count": 14
        }
      ]
    },
    {
      "cell_type": "code",
      "metadata": {
        "id": "uNfWxLZS8ro4",
        "outputId": "1fa29d86-7668-4d91-c92d-1a4e306163be",
        "colab": {
          "base_uri": "https://localhost:8080/"
        }
      },
      "source": [
        "# As search only returns the first matched, we write a simple function that\n",
        "# parse the lyrics and returns all matching results based on the regex pattern\n",
        "def searchLyrics(pattern, lyrics):\n",
        "    i = 0\n",
        "    while i < len(lyrics):\n",
        "      lyrics = lyrics[i:]\n",
        "      match = re.search(pattern, lyrics)\n",
        "      if match is not None:\n",
        "        print(match.group(0))\n",
        "        i = match.span()[1]\n",
        "      else:\n",
        "        break\n",
        "\n",
        "# In this example, we utilize the concept groups based on regex pattern numbering\n",
        "# position. Here we try to find groups of words that appear in the lyrics that\n",
        "# appear consecutively:\n",
        "searchLyrics(r'\\b(\\w+)\\b(\\s+\\1)\\b\\2\\b', lyrics)\n",
        "\n",
        "# Decrypting: \\b (\\w+) \\b (\\s+\\1) \\b \\2 \\b\n",
        "#     Where: \\b - Sets the boundary of the pattern\n",
        "#            (\\w+) - This contains the pattern as a group to match \n",
        "#                     any series of characters\n",
        "#            (\\s+\\1) - This matches the pattern (\\w+) in positon 1 as described\n",
        "#                      by the syntax \\1. The \\s+ in front matches any number of\n",
        "#                      whitespaces that appear before the word.\n",
        "#            \\2 - This refers to position 2 of the pattern which is (\\s+\\1) which\n",
        "#                 \\1 refers to "
      ],
      "execution_count": 15,
      "outputs": [
        {
          "output_type": "stream",
          "text": [
            "goo goo goo\n",
            "ho ho ho\n",
            "hee hee hee\n",
            "hah hah hah\n",
            "goo goo goo\n",
            "goo goo goo\n"
          ],
          "name": "stdout"
        }
      ]
    },
    {
      "cell_type": "code",
      "metadata": {
        "id": "AbeIlBFcBMsC",
        "outputId": "f5872508-e472-4f44-ecb7-3073294b2dd6",
        "colab": {
          "base_uri": "https://localhost:8080/"
        }
      },
      "source": [
        "# We can acquire the same outcome with group name patterns:\n",
        "searchLyrics(r'\\b(?P<gib>[a-z]+)\\b(\\s+(?P=gib))\\b(\\s+(?P=gib))\\b', lyrics)\n",
        "\n",
        "# Decrypting: \\b (?P<gib>[a-z]+) \\b (\\s+(?P=gib)) \\b (\\s+(?P=gib)) \\b\n",
        "#     Where: \\b - Sets the boundary of the pattern\n",
        "#            (?P<gib>[a-z]+) - This contains the pattern to match [a-z]+ which\n",
        "#                              is any series of characters and assigned this\n",
        "#                              pattern with the name 'gib' with the syntax:\n",
        "#                              (?P<gib>...)\n",
        "#            (?P=gib) - Recalls the same pattern named 'gib'\n",
        "#            (\\s+(?P=gib)) - Grouping the recalled name pattern with \\s+ in front\n",
        "#                            to capture the pattern named 'gib' with a whitespace\n",
        "#                            in front."
      ],
      "execution_count": 16,
      "outputs": [
        {
          "output_type": "stream",
          "text": [
            "goo goo goo\n",
            "ho ho ho\n",
            "hee hee hee\n",
            "hah hah hah\n",
            "goo goo goo\n",
            "goo goo goo\n"
          ],
          "name": "stdout"
        }
      ]
    }
  ]
}